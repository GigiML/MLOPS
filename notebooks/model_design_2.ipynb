{
 "cells": [
  {
   "cell_type": "code",
   "execution_count": 1,
   "id": "6ff0e33e-8ab1-4745-9fcc-ac28ffcdff37",
   "metadata": {},
   "outputs": [],
   "source": [
    "import pandas as pd\n",
    "from sklearn.feature_extraction.text import TfidfVectorizer\n",
    "from sklearn.pipeline import Pipeline\n",
    "from sklearn.linear_model import LogisticRegression, SGDClassifier\n",
    "from sklearn.ensemble import RandomForestClassifier\n",
    "from sklearn.neural_network import MLPClassifier\n",
    "import numpy as np\n",
    "from sklearn.base import BaseEstimator, TransformerMixin\n",
    "from sklearn.model_selection import GridSearchCV\n",
    "from hyperopt import hp\n",
    "from sklearn.metrics import accuracy_score\n",
    "from hyperopt import fmin, tpe\n",
    "import mlflow\n",
    "from mlflow.models import infer_signature\n",
    "import os\n",
    "from mlflow import MlflowClient\n",
    "import git"
   ]
  },
  {
   "cell_type": "code",
   "execution_count": null,
   "id": "2fff122e-e51e-425f-9f47-1a20e561e89c",
   "metadata": {},
   "outputs": [],
   "source": []
  },
  {
   "cell_type": "markdown",
   "id": "0167b2cd-91a2-4d93-8e95-d388dc026d24",
   "metadata": {},
   "source": [
    "## MLFLOW"
   ]
  },
  {
   "cell_type": "code",
   "execution_count": 2,
   "id": "ec62bfbe-1284-45c3-8ab4-5fbd8b1308b6",
   "metadata": {},
   "outputs": [],
   "source": [
    "mlflow.set_tracking_uri(uri=\"http://localhost:5000\")"
   ]
  },
  {
   "cell_type": "code",
   "execution_count": 3,
   "id": "a4a359ac-2396-413c-8cba-a3eec1ef5f62",
   "metadata": {},
   "outputs": [],
   "source": [
    "\n",
    "\n",
    "## load data\n",
    "\n",
    "#On recupere les données depuis les differents csv puis on les stocks dans differentes variables correspondantes (jeu de train dans X_train)\n",
    "\n",
    "df_train = pd.read_csv(\"../data/archive/train.csv\")\n",
    "df_train\n",
    "X_train, y_train = df_train[\"review\"],  df_train[\"polarity\"]\n",
    "\n",
    "df_test = pd.read_csv(\"../data/archive/test.csv\")\n",
    "X_test, y_test = df_train[\"review\"],  df_train[\"polarity\"]\n",
    "df_val = pd.read_csv(\"../data/archive/valid.csv\")\n",
    "X_val, y_val= df_train[\"review\"],  df_train[\"polarity\"]"
   ]
  },
  {
   "cell_type": "markdown",
   "id": "80f9a979-9cae-4b98-af28-6904578b0c80",
   "metadata": {},
   "source": [
    "Nous verifions la présence de données manquantes"
   ]
  },
  {
   "cell_type": "code",
   "execution_count": 4,
   "id": "b01579f9-e217-47dc-8ab6-4093279519b3",
   "metadata": {
    "scrolled": true
   },
   "outputs": [
    {
     "data": {
      "text/plain": [
       "(Unnamed: 0    0\n",
       " film-url      0\n",
       " review        0\n",
       " polarity      0\n",
       " dtype: int64,\n",
       " Unnamed: 0    0\n",
       " film-url      0\n",
       " review        0\n",
       " polarity      0\n",
       " dtype: int64)"
      ]
     },
     "execution_count": 4,
     "metadata": {},
     "output_type": "execute_result"
    }
   ],
   "source": [
    "df_train.isna().sum(), df_train.isnull().sum()"
   ]
  },
  {
   "cell_type": "markdown",
   "id": "b14bf744-52e2-4390-9e0f-e2906d9cc2ec",
   "metadata": {},
   "source": [
    "verification de la balance des labels"
   ]
  },
  {
   "cell_type": "code",
   "execution_count": 5,
   "id": "924ecbab-ef64-47e4-90f2-6c9ea6e1bc9d",
   "metadata": {},
   "outputs": [
    {
     "data": {
      "text/plain": [
       "(array([0, 1]), array([79413, 80587]))"
      ]
     },
     "execution_count": 5,
     "metadata": {},
     "output_type": "execute_result"
    }
   ],
   "source": [
    "np.unique(df_train[\"polarity\"], return_counts=True)"
   ]
  },
  {
   "cell_type": "markdown",
   "id": "988083ef-89cc-4ed6-8bb6-906a93bf88e6",
   "metadata": {},
   "source": [
    "it's balance"
   ]
  },
  {
   "cell_type": "markdown",
   "id": "6d19f822-4572-4016-aef3-3a8d7351e3d2",
   "metadata": {},
   "source": [
    "## preprocessing"
   ]
  },
  {
   "cell_type": "code",
   "execution_count": 6,
   "id": "1afc9481-b5fd-4252-9519-f63901b6a5c8",
   "metadata": {},
   "outputs": [],
   "source": [
    "STOP_WORDS = list(\n",
    "    \"\"\"\n",
    "a à â abord afin ah ai aie ainsi ait allaient allons\n",
    "alors anterieur anterieure anterieures antérieur antérieure antérieures\n",
    "apres après as assez attendu au\n",
    "aupres auquel aura auraient aurait auront\n",
    "aussi autre autrement autres autrui aux auxquelles auxquels avaient\n",
    "avais avait avant avec avoir avons ayant\n",
    "\n",
    "bas basee bat\n",
    "\n",
    "c' c’ ça car ce ceci cela celle celle-ci celle-la celle-là celles celles-ci celles-la celles-là\n",
    "celui celui-ci celui-la celui-là cent cependant certain certaine certaines certains certes ces\n",
    "cet cette ceux ceux-ci ceux-là chacun chacune chaque chez ci cinq cinquantaine cinquante\n",
    "cinquantième cinquième combien comme comment compris concernant\n",
    "\n",
    "d' d’ da dans de debout dedans dehors deja dejà delà depuis derriere\n",
    "derrière des desormais desquelles desquels dessous dessus deux deuxième\n",
    "deuxièmement devant devers devra different differente differentes differents différent\n",
    "différente différentes différents dire directe directement dit dite dits divers\n",
    "diverse diverses dix dix-huit dix-neuf dix-sept dixième doit doivent donc dont\n",
    "douze douzième du duquel durant dès déja déjà désormais\n",
    "\n",
    "effet egalement eh elle elle-meme elle-même elles elles-memes elles-mêmes en encore\n",
    "enfin entre envers environ es ès est et etaient étaient etais étais etait était\n",
    "etant étant etc etre être eu eux eux-mêmes exactement excepté également\n",
    "\n",
    "fais faisaient faisant fait facon façon feront font\n",
    "\n",
    "gens\n",
    "\n",
    "ha hem hep hi ho hormis hors hou houp hue hui huit huitième\n",
    "hé i il ils importe\n",
    "\n",
    "j' j’ je jusqu jusque juste\n",
    "\n",
    "l' l’ la laisser laquelle le lequel les lesquelles lesquels leur leurs longtemps\n",
    "lors lorsque lui lui-meme lui-même là lès\n",
    "\n",
    "m' m’ ma maint maintenant mais malgre malgré me meme memes merci mes mien\n",
    "mienne miennes miens mille moi moi-meme moi-même moindres moins\n",
    "mon même mêmes\n",
    "\n",
    "n' n’ na ne neanmoins neuvième ni nombreuses nombreux nos notamment\n",
    "notre nous nous-mêmes nouveau nul néanmoins nôtre nôtres\n",
    "\n",
    "o ô on ont onze onzième or ou ouias ouste outre\n",
    "ouvert ouverte ouverts où\n",
    "\n",
    "par parce parfois parle parlent parler parmi partant\n",
    "pas pendant pense permet personne peu peut peuvent peux plus\n",
    "plusieurs plutot plutôt possible possibles pour pourquoi\n",
    "pourrais pourrait pouvait prealable precisement\n",
    "premier première premièrement\n",
    "pres procedant proche près préalable précisement pu puis puisque\n",
    "\n",
    "qu' qu’ quand quant quant-à-soi quarante quatorze quatre quatre-vingt\n",
    "quatrième quatrièmement que quel quelconque quelle quelles quelqu'un quelque\n",
    "quelques quels qui quiconque quinze quoi quoique\n",
    "\n",
    "relative relativement rend rendre restant reste\n",
    "restent retour revoici revoila revoilà\n",
    "\n",
    "s' s’ sa sait sans sauf se seize selon semblable semblaient\n",
    "semble semblent sent sept septième sera seraient serait seront ses seul seule\n",
    "seulement seuls seules si sien sienne siennes siens sinon six sixième soi soi-meme soi-même soit\n",
    "soixante son sont sous souvent specifique specifiques spécifique spécifiques stop\n",
    "suffisant suffisante suffit suis suit suivant suivante\n",
    "suivantes suivants suivre sur surtout\n",
    "\n",
    "t' t’ ta tant te tel telle tellement telles tels tenant tend tenir tente\n",
    "tes tien tienne tiennes tiens toi toi-meme toi-même ton touchant toujours tous\n",
    "tout toute toutes treize trente tres trois troisième troisièmement très\n",
    "tu té\n",
    "\n",
    "un une unes uns\n",
    "\n",
    "va vais vas vers via vingt voici voila voilà vont vos\n",
    "votre votres vous vous-mêmes vu vé vôtre vôtres\n",
    "\n",
    "y\n",
    "\n",
    "\"\"\".split()\n",
    ")"
   ]
  },
  {
   "cell_type": "markdown",
   "id": "6e1ce4b1-0c30-48fa-b9ea-b5b21a1352ad",
   "metadata": {},
   "source": [
    "source https://github.com/explosion/spaCy/blob/master/spacy/lang/fr/stop_words.py\n"
   ]
  },
  {
   "cell_type": "markdown",
   "id": "cc41b654-2f4b-4741-8cc0-207e04a9c578",
   "metadata": {},
   "source": [
    "we use  TfidfVectorizer, it use count vectorizer followed bytransform tfid\n",
    "- count vectorizer create a matrice document x word  the cell i,j correspond of ith document avec jth word and it count the  number of occurence of the word j in i\n",
    "- tfid use this matrix to calculate the tfidf matrix"
   ]
  },
  {
   "cell_type": "markdown",
   "id": "173def8e-e5f4-41e0-9768-162db9712d60",
   "metadata": {},
   "source": [
    "### regression lineaire"
   ]
  },
  {
   "cell_type": "code",
   "execution_count": 7,
   "id": "55f6ac06-a111-494f-acda-0020ad46ba75",
   "metadata": {},
   "outputs": [],
   "source": [
    "params = {\n",
    "    \"solver\": \"lbfgs\",\n",
    "    \"max_iter\": 1000,\n",
    "    \"multi_class\": \"auto\",\n",
    "    \"random_state\": 42,\n",
    "}"
   ]
  },
  {
   "cell_type": "code",
   "execution_count": 8,
   "id": "f9354d84-05e6-4285-9618-bc8f3a7a3458",
   "metadata": {},
   "outputs": [],
   "source": [
    "pipeline = Pipeline([\n",
    "            ('tfidf', TfidfVectorizer(max_features=5000, stop_words = STOP_WORDS)),\n",
    "        ('classifier', LogisticRegression(**params))\n",
    "    ])# creation de la pipeline avec le preprocessing et le modèle\n",
    "    "
   ]
  },
  {
   "cell_type": "code",
   "execution_count": 9,
   "id": "6e4069bb-9d57-4755-b0ad-0a4c21fb89f6",
   "metadata": {
    "scrolled": true
   },
   "outputs": [
    {
     "data": {
      "text/plain": [
       "'model_design_2.ipynb'"
      ]
     },
     "execution_count": 9,
     "metadata": {},
     "output_type": "execute_result"
    }
   ],
   "source": [
    "session_name = os.environ.get('JPY_SESSION_NAME', '')\n",
    "notebook_name = os.path.basename(session_name)\n",
    "notebook_name"
   ]
  },
  {
   "cell_type": "code",
   "execution_count": 10,
   "id": "9ad704bb-c0e6-4a56-a4d3-09a9fb7d734a",
   "metadata": {},
   "outputs": [],
   "source": [
    "path = os.getcwd()\n",
    "repo = git.Repo(os.path.abspath(os.path.join(path, os.pardir)))\n",
    "sha_commit = repo.head.object.hexsha \n",
    "branch = repo.active_branch.name"
   ]
  },
  {
   "cell_type": "code",
   "execution_count": 11,
   "id": "4f148aeb-18ec-4caf-85b4-1d262fc2c07e",
   "metadata": {},
   "outputs": [
    {
     "data": {
      "text/plain": [
       "('main', 'd0db016196ac6e6f64e255f3812b58b122e7312a')"
      ]
     },
     "execution_count": 11,
     "metadata": {},
     "output_type": "execute_result"
    }
   ],
   "source": [
    "branch, sha_commit"
   ]
  },
  {
   "cell_type": "code",
   "execution_count": 13,
   "id": "addf0a97-722e-480d-a7a8-0dadba605be8",
   "metadata": {},
   "outputs": [
    {
     "name": "stderr",
     "output_type": "stream",
     "text": [
      "/Users/gigi/Desktop/mlops/venv/lib/python3.11/site-packages/sklearn/linear_model/_logistic.py:1247: FutureWarning: 'multi_class' was deprecated in version 1.5 and will be removed in 1.7. From then on, it will always use 'multinomial'. Leave it to its default value to avoid this warning.\n",
      "  warnings.warn(\n",
      "2024/11/12 17:48:17 INFO mlflow.tracking._tracking_service.client: 🏃 View run whimsical-shoat-810 at: http://localhost:5000/#/experiments/257713885670805413/runs/149095e72f714103987031079705775c.\n",
      "2024/11/12 17:48:17 INFO mlflow.tracking._tracking_service.client: 🧪 View experiment at: http://localhost:5000/#/experiments/257713885670805413.\n",
      "2024/11/12 17:48:17 INFO mlflow.store.model_registry.abstract_store: Waiting up to 300 seconds for model version to finish creation. Model name: LR-staging, version 1\n"
     ]
    }
   ],
   "source": [
    "# Create a new MLflow Experiment\n",
    "mlflow.set_experiment(\"MLflow LRregression\")\n",
    "# Start an MLflow run\n",
    "with mlflow.start_run(description=\"pipeline lr + tfidf\") as run:\n",
    "    mlflow.sklearn.autolog(log_datasets=False)\n",
    "    pipeline.fit(X_train, y_train)\n",
    "    accuracy = pipeline.score(X_test, y_test)\n",
    "    mlflow.log_metric(\"accuracy_test\", accuracy)\n",
    "    mlflow.set_tag(\"mlflow.source.name\",notebook_name)\n",
    "    mlflow.set_tag(\"mlflow.source.git.commit\", sha_commit) \n",
    "    signature = infer_signature(X_train, pipeline.predict(X_train))\n",
    "    mlflow.set_tag(\"mlflow.source.git.branch\", branch)\n",
    "    mlflow.sklearn.log_model(pipeline, artifact_path=\"sklearn-model\", signature=signature)\n",
    "\n",
    "\n",
    "# Create source model version\n",
    "client = MlflowClient()\n",
    "src_name = \"LR-staging\"\n",
    "client.create_registered_model(src_name)\n",
    "src_uri = f\"runs:/{run.info.run_id}/sklearn-model\"\n",
    "mv_src = client.create_model_version(src_name, src_uri, run.info.run_id)\n"
   ]
  },
  {
   "cell_type": "markdown",
   "id": "26641154-8647-4427-baa0-d04300f5e8c8",
   "metadata": {},
   "source": [
    "Consultez les métriques logguées par autolog lors de l'entrainement. Qu'en pensez-vous ? Ces métriques sont-elles satisfaisantes pour évaluer la qualité de votre modèle?\n",
    "\n",
    "Ajoutez au moins une métrique pertinente d'évaluation de votre modèle.\n",
    "c'est l'accuracy du training on preferait l'avoir sur le test"
   ]
  },
  {
   "cell_type": "markdown",
   "id": "5ad92e36-6d52-49cb-8c2a-d9f72ec2066f",
   "metadata": {},
   "source": [
    "## hyperopt"
   ]
  },
  {
   "cell_type": "code",
   "execution_count": 14,
   "id": "42f42cde-4209-4b83-8b0c-e10c09ed793d",
   "metadata": {
    "scrolled": true
   },
   "outputs": [
    {
     "name": "stdout",
     "output_type": "stream",
     "text": [
      "  0%|                                                        | 0/10 [00:00<?, ?trial/s, best loss=?]"
     ]
    },
    {
     "name": "stderr",
     "output_type": "stream",
     "text": [
      "2024/11/12 17:48:32 INFO mlflow.utils.autologging_utils: Created MLflow autologging run with ID 'd9364ee866b74a51a1c54abc0ace3c45', which will track hyperparameters, performance metrics, model artifacts, and lineage information for the current sklearn workflow\n",
      "\n",
      "2024/11/12 17:49:15 INFO mlflow.tracking._tracking_service.client: 🏃 View run able-penguin-876 at: http://localhost:5000/#/experiments/257713885670805413/runs/d9364ee866b74a51a1c54abc0ace3c45.\n",
      "\n",
      "2024/11/12 17:49:15 INFO mlflow.tracking._tracking_service.client: 🧪 View experiment at: http://localhost:5000/#/experiments/257713885670805413.\n",
      "\n"
     ]
    },
    {
     "name": "stdout",
     "output_type": "stream",
     "text": [
      " 10%|██▉                          | 1/10 [00:48<07:15, 48.38s/trial, best loss: 0.11268124999999996]"
     ]
    },
    {
     "name": "stderr",
     "output_type": "stream",
     "text": [
      "2024/11/12 17:49:20 INFO mlflow.utils.autologging_utils: Created MLflow autologging run with ID 'f3511e91eb7148569d2e268a4455143b', which will track hyperparameters, performance metrics, model artifacts, and lineage information for the current sklearn workflow\n",
      "\n",
      "2024/11/12 17:50:04 INFO mlflow.tracking._tracking_service.client: 🏃 View run abrasive-shrew-904 at: http://localhost:5000/#/experiments/257713885670805413/runs/f3511e91eb7148569d2e268a4455143b.\n",
      "\n",
      "2024/11/12 17:50:04 INFO mlflow.tracking._tracking_service.client: 🧪 View experiment at: http://localhost:5000/#/experiments/257713885670805413.\n",
      "\n"
     ]
    },
    {
     "name": "stdout",
     "output_type": "stream",
     "text": [
      " 20%|█████▊                       | 2/10 [01:37<06:31, 48.89s/trial, best loss: 0.08045000000000002]"
     ]
    },
    {
     "name": "stderr",
     "output_type": "stream",
     "text": [
      "2024/11/12 17:50:10 INFO mlflow.utils.autologging_utils: Created MLflow autologging run with ID '9a4ce1a081884cd094bb9ce876524f2d', which will track hyperparameters, performance metrics, model artifacts, and lineage information for the current sklearn workflow\n",
      "\n",
      "2024/11/12 17:50:55 INFO mlflow.tracking._tracking_service.client: 🏃 View run valuable-lamb-496 at: http://localhost:5000/#/experiments/257713885670805413/runs/9a4ce1a081884cd094bb9ce876524f2d.\n",
      "\n",
      "2024/11/12 17:50:55 INFO mlflow.tracking._tracking_service.client: 🧪 View experiment at: http://localhost:5000/#/experiments/257713885670805413.\n",
      "\n"
     ]
    },
    {
     "name": "stdout",
     "output_type": "stream",
     "text": [
      " 30%|████████▋                    | 3/10 [02:28<05:50, 50.02s/trial, best loss: 0.05758125000000003]"
     ]
    },
    {
     "name": "stderr",
     "output_type": "stream",
     "text": [
      "2024/11/12 17:51:01 INFO mlflow.utils.autologging_utils: Created MLflow autologging run with ID 'c4cf81587bf247f79399ef4bfecf6066', which will track hyperparameters, performance metrics, model artifacts, and lineage information for the current sklearn workflow\n",
      "\n",
      "2024/11/12 17:51:44 INFO mlflow.tracking._tracking_service.client: 🏃 View run treasured-shrimp-899 at: http://localhost:5000/#/experiments/257713885670805413/runs/c4cf81587bf247f79399ef4bfecf6066.\n",
      "\n",
      "2024/11/12 17:51:44 INFO mlflow.tracking._tracking_service.client: 🧪 View experiment at: http://localhost:5000/#/experiments/257713885670805413.\n",
      "\n"
     ]
    },
    {
     "name": "stdout",
     "output_type": "stream",
     "text": [
      " 40%|███████████▌                 | 4/10 [03:18<04:57, 49.64s/trial, best loss: 0.05758125000000003]"
     ]
    },
    {
     "name": "stderr",
     "output_type": "stream",
     "text": [
      "2024/11/12 17:51:50 INFO mlflow.utils.autologging_utils: Created MLflow autologging run with ID 'e64f23dd0bd44aaa854c8f4d7a87d820', which will track hyperparameters, performance metrics, model artifacts, and lineage information for the current sklearn workflow\n",
      "\n",
      "2024/11/12 17:52:34 INFO mlflow.tracking._tracking_service.client: 🏃 View run resilient-shoat-71 at: http://localhost:5000/#/experiments/257713885670805413/runs/e64f23dd0bd44aaa854c8f4d7a87d820.\n",
      "\n",
      "2024/11/12 17:52:34 INFO mlflow.tracking._tracking_service.client: 🧪 View experiment at: http://localhost:5000/#/experiments/257713885670805413.\n",
      "\n"
     ]
    },
    {
     "name": "stdout",
     "output_type": "stream",
     "text": [
      " 50%|██████████████▌              | 5/10 [04:08<04:09, 49.87s/trial, best loss: 0.05758125000000003]"
     ]
    },
    {
     "name": "stderr",
     "output_type": "stream",
     "text": [
      "2024/11/12 17:52:40 INFO mlflow.utils.autologging_utils: Created MLflow autologging run with ID '0f4dfa2764af4ef38d3ab435af23ad71', which will track hyperparameters, performance metrics, model artifacts, and lineage information for the current sklearn workflow\n",
      "\n",
      "2024/11/12 17:53:23 INFO mlflow.tracking._tracking_service.client: 🏃 View run unequaled-hound-112 at: http://localhost:5000/#/experiments/257713885670805413/runs/0f4dfa2764af4ef38d3ab435af23ad71.\n",
      "\n",
      "2024/11/12 17:53:23 INFO mlflow.tracking._tracking_service.client: 🧪 View experiment at: http://localhost:5000/#/experiments/257713885670805413.\n",
      "\n"
     ]
    },
    {
     "name": "stdout",
     "output_type": "stream",
     "text": [
      " 60%|█████████████████▍           | 6/10 [04:56<03:17, 49.33s/trial, best loss: 0.05758125000000003]"
     ]
    },
    {
     "name": "stderr",
     "output_type": "stream",
     "text": [
      "2024/11/12 17:53:29 INFO mlflow.utils.autologging_utils: Created MLflow autologging run with ID '01b1661f06564902b521b6b3239061e7', which will track hyperparameters, performance metrics, model artifacts, and lineage information for the current sklearn workflow\n",
      "\n",
      "2024/11/12 17:54:12 INFO mlflow.tracking._tracking_service.client: 🏃 View run salty-vole-932 at: http://localhost:5000/#/experiments/257713885670805413/runs/01b1661f06564902b521b6b3239061e7.\n",
      "\n",
      "2024/11/12 17:54:12 INFO mlflow.tracking._tracking_service.client: 🧪 View experiment at: http://localhost:5000/#/experiments/257713885670805413.\n",
      "\n"
     ]
    },
    {
     "name": "stdout",
     "output_type": "stream",
     "text": [
      " 70%|████████████████████▎        | 7/10 [05:46<02:28, 49.50s/trial, best loss: 0.05758125000000003]"
     ]
    },
    {
     "name": "stderr",
     "output_type": "stream",
     "text": [
      "2024/11/12 17:54:18 INFO mlflow.utils.autologging_utils: Created MLflow autologging run with ID 'ae692fa9c4794f239629c864fdad27d3', which will track hyperparameters, performance metrics, model artifacts, and lineage information for the current sklearn workflow\n",
      "\n",
      "2024/11/12 17:55:01 INFO mlflow.tracking._tracking_service.client: 🏃 View run adorable-gnat-989 at: http://localhost:5000/#/experiments/257713885670805413/runs/ae692fa9c4794f239629c864fdad27d3.\n",
      "\n",
      "2024/11/12 17:55:01 INFO mlflow.tracking._tracking_service.client: 🧪 View experiment at: http://localhost:5000/#/experiments/257713885670805413.\n",
      "\n"
     ]
    },
    {
     "name": "stdout",
     "output_type": "stream",
     "text": [
      " 80%|███████████████████████▏     | 8/10 [06:34<01:38, 49.11s/trial, best loss: 0.05758125000000003]"
     ]
    },
    {
     "name": "stderr",
     "output_type": "stream",
     "text": [
      "2024/11/12 17:55:07 INFO mlflow.utils.autologging_utils: Created MLflow autologging run with ID 'd9bf506fd3004f6f8a54128cdc171367', which will track hyperparameters, performance metrics, model artifacts, and lineage information for the current sklearn workflow\n",
      "\n",
      "2024/11/12 17:55:50 INFO mlflow.tracking._tracking_service.client: 🏃 View run rare-koi-141 at: http://localhost:5000/#/experiments/257713885670805413/runs/d9bf506fd3004f6f8a54128cdc171367.\n",
      "\n",
      "2024/11/12 17:55:50 INFO mlflow.tracking._tracking_service.client: 🧪 View experiment at: http://localhost:5000/#/experiments/257713885670805413.\n",
      "\n"
     ]
    },
    {
     "name": "stdout",
     "output_type": "stream",
     "text": [
      " 90%|██████████████████████████   | 9/10 [07:24<00:49, 49.17s/trial, best loss: 0.05758125000000003]"
     ]
    },
    {
     "name": "stderr",
     "output_type": "stream",
     "text": [
      "2024/11/12 17:55:56 INFO mlflow.utils.autologging_utils: Created MLflow autologging run with ID 'ed63cb5d6b17448bb7d4df1676a222c5', which will track hyperparameters, performance metrics, model artifacts, and lineage information for the current sklearn workflow\n",
      "\n",
      "2024/11/12 17:56:38 INFO mlflow.tracking._tracking_service.client: 🏃 View run skillful-wolf-580 at: http://localhost:5000/#/experiments/257713885670805413/runs/ed63cb5d6b17448bb7d4df1676a222c5.\n",
      "\n",
      "2024/11/12 17:56:38 INFO mlflow.tracking._tracking_service.client: 🧪 View experiment at: http://localhost:5000/#/experiments/257713885670805413.\n",
      "\n"
     ]
    },
    {
     "name": "stdout",
     "output_type": "stream",
     "text": [
      "100%|████████████████████████████| 10/10 [08:11<00:00, 49.20s/trial, best loss: 0.05758125000000003]\n"
     ]
    }
   ],
   "source": [
    "#  optimisation des hyperparametres  pour la regression logistic\n",
    "def objective(params):\n",
    "    pipeline = Pipeline([\n",
    "        ('tfidf', TfidfVectorizer(max_features=params['tfidf__max_features'])),\n",
    "        ('logreg', LogisticRegression(C=params['logreg__C']))\n",
    "    ])\n",
    "    \n",
    "    pipeline.fit(X_train, y_train)\n",
    "    y_pred = pipeline.predict(X_val)\n",
    "    accuracy = accuracy_score(y_val, y_pred)\n",
    "    \n",
    "    return {'loss': 1 - accuracy, 'status': \"ok\"}\n",
    "\n",
    "space = {\n",
    "    'tfidf__max_features': hp.choice('tfidf__max_features', [1000, 5000, 10000]),\n",
    "    'logreg__C': hp.loguniform('logreg__C', np.log(0.001), np.log(100))\n",
    "}\n",
    "\n",
    "best = fmin(\n",
    "    fn=objective,\n",
    "    space=space,\n",
    "    algo=tpe.suggest,\n",
    "    max_evals=10,\n",
    "    return_argmin=False\n",
    ")\n"
   ]
  },
  {
   "cell_type": "code",
   "execution_count": 16,
   "id": "262742de-8176-4e73-b762-bd0ac8364387",
   "metadata": {},
   "outputs": [
    {
     "data": {
      "text/plain": [
       "{'logreg__C': 40.7430245196735, 'tfidf__max_features': 10000}"
      ]
     },
     "execution_count": 16,
     "metadata": {},
     "output_type": "execute_result"
    }
   ],
   "source": [
    "best"
   ]
  },
  {
   "cell_type": "code",
   "execution_count": null,
   "id": "7aa343fc-0b2a-4d95-b6dc-a6c44166a4df",
   "metadata": {},
   "outputs": [],
   "source": []
  }
 ],
 "metadata": {
  "kernelspec": {
   "display_name": "Python 3 (ipykernel)",
   "language": "python",
   "name": "python3"
  },
  "language_info": {
   "codemirror_mode": {
    "name": "ipython",
    "version": 3
   },
   "file_extension": ".py",
   "mimetype": "text/x-python",
   "name": "python",
   "nbconvert_exporter": "python",
   "pygments_lexer": "ipython3",
   "version": "3.11.10"
  }
 },
 "nbformat": 4,
 "nbformat_minor": 5
}
